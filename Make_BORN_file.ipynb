{
 "cells": [
  {
   "cell_type": "code",
   "execution_count": 53,
   "id": "e3e184cd",
   "metadata": {},
   "outputs": [],
   "source": [
    "import numpy as np\n",
    "import matplotlib.pyplot as plt"
   ]
  },
  {
   "cell_type": "code",
   "execution_count": 54,
   "id": "bfc68c7a",
   "metadata": {},
   "outputs": [],
   "source": [
    "N = 512\n",
    "Volume = (17.13*1.88973)**3\n",
    "\n",
    "ChiV = np.genfromtxt('chiV.dat',usecols=2)\n",
    "\n",
    "a=ChiV/Volume*4*np.pi"
   ]
  },
  {
   "cell_type": "code",
   "execution_count": 55,
   "id": "042029c6",
   "metadata": {},
   "outputs": [
    {
     "data": {
      "text/plain": [
       "array([ 1.79972163, -0.00510676, -0.00383798, -0.0051913 ,  1.79643196,\n",
       "       -0.01324034, -0.00341031, -0.01266435,  1.81289139])"
      ]
     },
     "execution_count": 55,
     "metadata": {},
     "output_type": "execute_result"
    }
   ],
   "source": [
    "eps = a\n",
    "eps[0] = a[0]+1.0\n",
    "eps[4] = a[4]+1.0\n",
    "eps[8] = a[8]+1.0\n",
    "eps"
   ]
  },
  {
   "cell_type": "code",
   "execution_count": 56,
   "id": "59626166",
   "metadata": {},
   "outputs": [],
   "source": [
    "np.savetxt('BORN',eps,fmt='%10.3f',newline='')"
   ]
  },
  {
   "cell_type": "code",
   "execution_count": 57,
   "id": "b975b4eb",
   "metadata": {},
   "outputs": [
    {
     "data": {
      "text/plain": [
       "0.023917939999989812"
      ]
     },
     "execution_count": 57,
     "metadata": {},
     "output_type": "execute_result"
    }
   ],
   "source": [
    "Zxx = np.genfromtxt('Zxx.dat',usecols=2)\n",
    "Zyx = np.genfromtxt('Zyx.dat',usecols=2)\n",
    "Zzx = np.genfromtxt('Zzx.dat',usecols=2)\n",
    "Zxy = np.genfromtxt('Zxy.dat',usecols=2)\n",
    "Zyy = np.genfromtxt('Zyy.dat',usecols=2)\n",
    "Zzy = np.genfromtxt('Zzy.dat',usecols=2)\n",
    "Zxz = np.genfromtxt('Zxz.dat',usecols=2)\n",
    "Zyz = np.genfromtxt('Zyz.dat',usecols=2)\n",
    "Zzz = np.genfromtxt('Zzz.dat',usecols=2)\n",
    "np.sum(Zzz)"
   ]
  },
  {
   "cell_type": "code",
   "execution_count": 58,
   "id": "81e93407",
   "metadata": {},
   "outputs": [],
   "source": [
    "f = open(\"BORN\", \"a\")\n",
    "\n",
    "\n",
    "for i in range(N):\n",
    "    f.write('\\n' + str(Zxx[i]) + ' ' + str(Zxy[i]) + ' ' + str(Zxz[i]) +\n",
    "             ' ' + str(Zyx[i]) + ' ' + str(Zyy[i]) + ' ' + str(Zyz[i]) + \n",
    "             ' ' + str(Zzx[i]) + ' ' + str(Zzy[i]) + ' ' + str(Zzz[i])\n",
    "           )\n",
    "    \n",
    "f.close()\n"
   ]
  },
  {
   "cell_type": "code",
   "execution_count": null,
   "id": "211fbe4a",
   "metadata": {},
   "outputs": [],
   "source": []
  }
 ],
 "metadata": {
  "kernelspec": {
   "display_name": "Python 3 (ipykernel)",
   "language": "python",
   "name": "python3"
  },
  "language_info": {
   "codemirror_mode": {
    "name": "ipython",
    "version": 3
   },
   "file_extension": ".py",
   "mimetype": "text/x-python",
   "name": "python",
   "nbconvert_exporter": "python",
   "pygments_lexer": "ipython3",
   "version": "3.10.4"
  }
 },
 "nbformat": 4,
 "nbformat_minor": 5
}
