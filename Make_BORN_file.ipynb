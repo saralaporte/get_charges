{
 "cells": [
  {
   "cell_type": "code",
   "execution_count": 1,
   "id": "e3e184cd",
   "metadata": {},
   "outputs": [],
   "source": [
    "import numpy as np\n",
    "import matplotlib.pyplot as plt"
   ]
  },
  {
   "cell_type": "code",
   "execution_count": 12,
   "id": "bfc68c7a",
   "metadata": {},
   "outputs": [],
   "source": [
    "ChiV = np.genfromtxt('chiV.dat',usecols=2)\n",
    "Volume = (17.07507*1.88973)**3\n",
    "a=ChiV/Volume*4*np.pi"
   ]
  },
  {
   "cell_type": "code",
   "execution_count": 14,
   "id": "042029c6",
   "metadata": {},
   "outputs": [
    {
     "data": {
      "text/plain": [
       "array([ 2.29839027e+00, -1.58050201e-05, -6.09834447e-06, -1.23938477e-05,\n",
       "        2.29834164e+00, -9.65962083e-06,  2.23536766e-06, -3.21250992e-06,\n",
       "        2.29859225e+00])"
      ]
     },
     "execution_count": 14,
     "metadata": {},
     "output_type": "execute_result"
    }
   ],
   "source": [
    "eps = a\n",
    "eps[0] = a[0]+1.0\n",
    "eps[4] = a[4]+1.0\n",
    "eps[8] = a[8]+1.0\n",
    "eps"
   ]
  },
  {
   "cell_type": "code",
   "execution_count": 21,
   "id": "59626166",
   "metadata": {},
   "outputs": [],
   "source": [
    "np.savetxt('EPS',eps,fmt='%10.3f',newline='')"
   ]
  },
  {
   "cell_type": "code",
   "execution_count": 26,
   "id": "b975b4eb",
   "metadata": {},
   "outputs": [],
   "source": [
    "Zxx = np.genfromtxt('efield_x/Zxx.dat',usecols=2)\n",
    "Zyx = np.genfromtxt('efield_x/Zyx.dat',usecols=2)\n",
    "Zzx = np.genfromtxt('efield_x/Zzx.dat',usecols=2)\n",
    "Zxy = np.genfromtxt('efield_y/Zxy.dat',usecols=2)\n",
    "Zyy = np.genfromtxt('efield_y/Zyy.dat',usecols=2)\n",
    "Zzy = np.genfromtxt('efield_y/Zzy.dat',usecols=2)\n",
    "Zxz = np.genfromtxt('efield_y/Zxz.dat',usecols=2)\n",
    "Zyz = np.genfromtxt('efield_y/Zyz.dat',usecols=2)\n",
    "Zzz = np.genfromtxt('efield_y/Zzz.dat',usecols=2)"
   ]
  },
  {
   "cell_type": "code",
   "execution_count": 29,
   "id": "81e93407",
   "metadata": {},
   "outputs": [
    {
     "data": {
      "text/plain": [
       "array([[0., 0., 0., ..., 0., 0., 0.],\n",
       "       [0., 0., 0., ..., 0., 0., 0.],\n",
       "       [0., 0., 0., ..., 0., 0., 0.],\n",
       "       ...,\n",
       "       [0., 0., 0., ..., 0., 0., 0.],\n",
       "       [0., 0., 0., ..., 0., 0., 0.],\n",
       "       [0., 0., 0., ..., 0., 0., 0.]])"
      ]
     },
     "execution_count": 29,
     "metadata": {},
     "output_type": "execute_result"
    }
   ],
   "source": [
    "Z = np.zeros((216,9))\n"
   ]
  },
  {
   "cell_type": "code",
   "execution_count": null,
   "id": "211fbe4a",
   "metadata": {},
   "outputs": [],
   "source": []
  }
 ],
 "metadata": {
  "kernelspec": {
   "display_name": "Python 3 (ipykernel)",
   "language": "python",
   "name": "python3"
  },
  "language_info": {
   "codemirror_mode": {
    "name": "ipython",
    "version": 3
   },
   "file_extension": ".py",
   "mimetype": "text/x-python",
   "name": "python",
   "nbconvert_exporter": "python",
   "pygments_lexer": "ipython3",
   "version": "3.10.4"
  }
 },
 "nbformat": 4,
 "nbformat_minor": 5
}
